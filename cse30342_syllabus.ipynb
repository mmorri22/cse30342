{
 "cells": [
  {
   "cell_type": "markdown",
   "id": "a314eca7",
   "metadata": {},
   "source": [
    "<h1>Welcome to CSE 30342 - Digital Integrated Circuits</h1>\n",
    "\n",
    "<img src=\"https://raw.githubusercontent.com/mmorri22/cse30342/main/ND%20Chip%20Logo.png\" width=300 height=300>"
   ]
  },
  {
   "cell_type": "markdown",
   "id": "cc35e250",
   "metadata": {},
   "source": [
    "### Professor:\n",
    "\n",
    "|Name|Email|Office Location|Office Hours|\n",
    "|:---|:---|:---|:---|\n",
    "|Prof. Matthew Morrison|matt.morrison@nd.edu|178 Fitzpatrick Hall|M-Th 11am-12pm|\n",
    "\n",
    "### Teaching Assistants:\n",
    "\n",
    "><b>Note:</b> TA office hours start due Week 2 of the course.\n",
    "\n",
    "|Name|Email|Office Hours Location|Office Hours|\n",
    "|:---|:---|:---|:---|\n",
    "|Lindsay Falk|lfalk2@nd.edu|Cushing 217|Th 7:30-9pm|\n",
    "|David Finnell|dfinnell@nd.edu|Cushing 217|Th 1-3pm|\n",
    "|Ethan Lau|elau@nd.edu|Cushing 217|Th 2-4pm|\n",
    "|Drew Lair|dlair@nd.edu|Cushing 217|Tu 6-8pm|\n",
    "|Dani Nah|hnah@nd.edu|Cushing 217|Th 6-8pm|\n",
    "|Richard McManus|rmcmanu2@nd.edu|Cushing 217|W 6:30-8pm|\n",
    "|Mike Slusarczyk|mslusarc@nd.edu|Cushing 217|Th 5-7pm|\n",
    "|Zack Tyler|ztyler2@nd.edu|Cushing 217|W 4:30-6:30pm|\n",
    "\n",
    "### Class Time and Location\n",
    "\n",
    "|Meeting Days|Time|Class Location|\n",
    "|:---|:---|:---|\n",
    "|M W F|12:50pm - 1:40pm|Nieuwland Science Hall 184|\n",
    "\n",
    "### Additional Links\n",
    "\n",
    "<b>Course Slack</b>: https://app.slack.com/client/T0HJVP8MS/C05NLA55RJ7\n",
    "\n",
    "<b>Prof Morrison's LinkedIn Page</b>: https://www.linkedin.com/in/gregariousmatt/\n",
    "<ul><li>I regularly post job and internship opportunities for my students on LinkedIn</li></ul>"
   ]
  },
  {
   "cell_type": "markdown",
   "id": "f1c6d3b2",
   "metadata": {},
   "source": [
    "### Course Overview\n",
    "\n",
    "The CSE 30342 Digital Integrated Circuits course will introduce the student to the design of digital systems when fabricated out of modern Complementary Metal Oxide Semiconductor (CMOS) technology.\n",
    "\n",
    "At the completion of this course, a student will be to able to:\n",
    "<ul>\n",
    "    <li><b>Design</b> basic digital CMOS circuits</li>\n",
    "<li><b>Estimate</b> and <b>predict</b> key system characteristics such as area, speed, and power as a function of technology</li>\n",
    "<li><b>Understand</b> various design methodologies (such as custom, semi-custom, standard cell, and gate array) that incorporate such circuits into bigger digital systems.</li>\n",
    "\n",
    "</ul>"
   ]
  },
  {
   "cell_type": "markdown",
   "id": "a668a89b",
   "metadata": {},
   "source": [
    "### Course Objectives\n",
    "\n",
    "Upon completion of the course, students shall be able to demonstrate the ability to:\n",
    "<ol>\n",
    "    <li>Demonstrate a <b>basic working knowledge</b> of VLSI systems, through homework and short projects of a set of topics.</li>\n",
    "<li>Articulate the big picture encompassing various facets of the <b>digital integrated circuit design</b> and <b>manufacturing process</b>.</li>\n",
    "    <li>Show a working knowledge of <b>future trends in silicon</b> and quickly estimate how <b>area, speed, and power</b> of CMOS digital systems will change as technology shrinks.</li>\n",
    "</ol>"
   ]
  },
  {
   "cell_type": "markdown",
   "id": "dbf89d7e",
   "metadata": {},
   "source": [
    "### Required and Recommended Textbooks\n",
    "\n",
    ">A \"recommended\" textbook is one that a student who is interested in pursuing Digital Design as a potential career would greatly benefit from owning. You will be able to earn an A in this course without purchasing these textbook.\n",
    "\n",
    "| | |\n",
    "|:---|:---|\n",
    "|<b>Required</b>|\n",
    "|<img style=\"float: left;\" src=\"https://m.media-amazon.com/images/I/61f+DG1jQ-L._SY344_BO1,204,203,200_.jpg\" width=100 height=150>|<b>The Soul of a New Machine</b><br><br>Tracy Kidder<br><br>ISBN-13: 978-0316491976<br><br><a href = \"https://www.amazon.com/Soul-New-Machine-Tracy-Kidder/dp/0316491977/ref=asc_df_0316491977/?tag=hyprod-20&linkCode=df0&hvadid=312125971120&hvpos=&hvnetw=g&hvrand=2512545908334015006&hvpone=&hvptwo=&hvqmt=&hvdev=c&hvdvcmdl=&hvlocint=&hvlocphy=9016280&hvtargid=pla-435502139488&psc=1&tag=&ref=&adgrpid=61316180839&hvpone=&hvptwo=&hvadid=312125971120&hvpos=&hvnetw=g&hvrand=2512545908334015006&hvqmt=&hvdev=c&hvdvcmdl=&hvlocint=&hvlocphy=9016280&hvtargid=pla-435502139488\">Amazon Search</a><br><br>|\n",
    "|<b>Recommended</b>|\n",
    "|<img style=\"float: left;\" src=\"https://m.media-amazon.com/images/I/41Fin6TiXGL._SX218_BO1,204,203,200_QL40_FMwebp_.jpg\" width=100 height=150>|<b>Digital Integrated Circuits: A Design Perspective</b><br><br>Jan M. Rabaey, Anantha Chandrakasan, Borivoje Nikolić<br><br>ISBN-13: 978-0130909961<br><br><a href = \"https://www.amazon.com/Digital-Integrated-Circuits-2nd-Rabaey/dp/0130909963\">Amazon Search</a>|\n",
    "|<img style=\"float: left;\" src=\"https://images-na.ssl-images-amazon.com/images/I/41Y2f5ckuLL._SX218_BO1,204,203,200_QL40_FMwebp_.jpg\" width=100 height=150>|<b>Starters Guide to Verilog</b><br><br>Michael Ciletti<br><br>ISBN-13: 978-0131415560<br><br><a href = \"https://www.amazon.com/Starters-Guide-Verilog-Michael-Ciletti/dp/0131415565\">Amazon Search</a>|\n",
    "|<img style=\"float: left;\" src=\"https://m.media-amazon.com/images/I/61-Q7J3iRDL._SY498_BO1,204,203,200_.jpg\" width=100 height=150>|<b>CMOS VLSI Design</b><br><br>Neil Weste, David Harris<br><br>ISBN-13: 978-0321547743<br><br><a href = \"https://www.amazon.com/CMOS-VLSI-Design-Perspective-Hardcover/dp/B011DAYZTC/ref=sr_1_5?crid=1TKTI2RWPR2XC&keywords=CMOS+VLSI+Design%3A+A+Circuits+and+Systems+Perspective&qid=1692723219&s=books&sprefix=cmos+vlsi+design+a+circuits+and+systems+perspective%2Cstripbooks%2C95&sr=1-5\">Amazon Search</a>|"
   ]
  },
  {
   "cell_type": "markdown",
   "id": "7d089906",
   "metadata": {},
   "source": [
    "### Resources\n",
    "<ul>\n",
    "    <li><a href = \"https://github.com/mmorri22/cse30342/blob/main/Resources/Render%20GDS%20File%20for%20CDK%20500nm.ipynb\">Python Script for 3-D Rendering of 0.5um CDK</a></li>\n",
    "    <li><a href = \"https://github.com/mmorri22/cse30342/blob/main/Resources/Render%20GDS%20File%20for%20CDK%20500nm.ipynb\">Python Script for 3-D Rendering of Skywater 130nm Technology File</a></li>\n",
    "    <li><a href = \"https://github.com/mmorri22/cse30342/blob/main/Resources/riscvcard.pdf\">RISC-V Green Card</a></li>\n",
    "    <li><a href = \"https://github.com/mmorri22/cse30342/blob/main/Resources/reference-card.pdf\">RISC-V Reference Card</a>\n",
    "    <li><a href = \"https://github.com/mmorri22/cse30342/blob/main/Resources/verilog-std-1364-2005.pdf\">IEEE 1364-2005 Verilog-Standard</a></li>\n",
    "    <li><a href = \"https://raw.githubusercontent.com/mmorri22/cse30342/main/Resources/CSE30342.v\">CSE30342 Register Library</a>\n",
    "    <li><a href = \"https://www.edaplayground.com/\">Online Verilog Simulator (edaplayground)</a></li>\n",
    "    <li><a href = \"https://github.com/mmorri22/cse30342/blob/main/Resources/spice_tutorial.pdf\">LTspice Tutorial</li>\n",
    "</ul>"
   ]
  },
  {
   "cell_type": "markdown",
   "id": "4e00f3fb",
   "metadata": {},
   "source": [
    "### Assignments\n",
    "\n",
    "There are four separate assignment categories we will use to assess your progress in the course.\n",
    "\n",
    "<b>Homework Assignments</b>: Problem sets that are designed to prepare you for exams and enhance design proficiency. These assignments will be due by 11:59pm on Thursdays.\n",
    "\n",
    "We encourage collaboration among students (subject to the collaboration policy below), but all assignments will be graded based on individual solutions.\n",
    "\n",
    "<b>Laboratory Assignments</b>: Hands-on experience with industrial tools for designing and testing digital integrated circuits.\n",
    "\n",
    "<b>Exams</b>: Two examinations will be given this semester. They are closed book, closed notes, closed laptop. Problems will be similar to Homework Assignments. There will not be any programming on an Exam, although you will be expected to hand-write small code segments on some Exam problems.\n",
    "\n",
    "<b>Final Project</b>: Comprehensive Final Design Project building upon Labs\t"
   ]
  },
  {
   "cell_type": "markdown",
   "id": "d52e3e13",
   "metadata": {},
   "source": [
    "### Late Policy\n",
    "\n",
    "If the class truly simulated a professional software development environment, I would probably only accept late assignments! But since this is a class and I need to give you a grade (and to mimic the realities of late software coming with a penalty), there will be a 20% penalty for each day (not class – actual day) that an assignment is late. Of course, if you have a special circumstance (illness, etc.), let me know and we’ll work something out.\n",
    "\n",
    ">Reasonable accomodations are usually granted, as long as they are <b>proactive</b> and <b>professional</b>. On the other hand, unreasonble or unprofessional requests, such as asking for an extension 3 hours before the deadline, are generally not accomodated."
   ]
  },
  {
   "cell_type": "markdown",
   "id": "669ec884",
   "metadata": {},
   "source": [
    "### Academic Integrity and Collaboration Policy\n",
    "\n",
    "CSE 30342 requires every student/group to turn in a separate project repositories that contains their own designs. Learning benefits from discussion, so you are welcome to discuss approaches and solution ideas with your classmates, but <i>you must write your own solution code and answers to conceptual questions</i>.\n",
    "\n",
    "Collaboration is an important part of both CSE 30342 and real-world engineering. Talking through your designs with other students leads to less stress and loneliness and to easier debugging.\n",
    "\n",
    "But collaboration can hurt your learning, too. We want every student to have worked on every project, and to have encountered the intellectual challenges it poses. Simply asking your classmates to show you their solution and copying it hurts your learning, and constitutes academically dishonest behavior (i.e., plagiarism).\n",
    "\n",
    "We seek a middle ground in which you don't feel isolated and form productive collaborations with your classmates, but still reason through your own code. You may discuss this code with classmates and help your friends debug, but every piece of code you submit must be written by you and you must not submit wholly identical solutions. A good way to ensure this is for you to type in your solutions individually, even if you are discussing your approach with your friends and you help each other debug.\n",
    "\n",
    "Furthermore, you may not utilize AI powered tools such as ChatGPT, Co-Pilot, or Tabnine for any of your programming assignments unless explicitly permitted by the professor.\n",
    "\n",
    "The following table summarizes how you may work with other students and use print/online sources:\n",
    "\n",
    "| |Resources|Solutions|AI Tools|\n",
    "|:---|:---|:---|:---|\n",
    "|<b>Consulting</b>|<font color=gold style=\"background-color:green\">Allowed</font>|<font color=white style=\"background-color:red\">Not Allowed</font>|<font color=white style=\"background-color:red\">Not Allowed</font>|\n",
    "|<b>Copying</b>|<font style=\"background-color:yellow\">Cite|<font color=white style=\"background-color:red\">Not Allowed</font>|<font color=white style=\"background-color:red\">Not Allowed</font>|\n",
    "    \n",
    "If an instructor sees behavior that is, in their judgment, academically dishonest, they are required to file either an Honor Code Violation Report or a formal report to the College of Engineering Honesty Committee."
   ]
  },
  {
   "cell_type": "markdown",
   "id": "85aed262",
   "metadata": {},
   "source": [
    "### Testing Accommodations\n",
    "\n",
    "Testing accommodations are modifications to the way you take a test. They do not lower the standards of the test but simply allow you to better demonstrate your understanding of the course material without the interference of a disability. Examples of testing accommodations include extended time, room with less distractions, a reader, or use of a computer. To receive testing accommodations, you must:\n",
    "<ul>\n",
    "<li>Obtain a Request for Testing Accommodation (RTA) form from the Sara Bea Disability Services office. You will need one for each class for which you are requesting testing accommodations. RTA forms only apply to your current classes, so you will need to request new forms each semester.</li>\n",
    "<li>Take your RTA forms to your instructors. If they agree that your accommodations are reasonable, then you each need to complete your portion of the RTA form.</li>\n",
    "<li>Return the completed RTA form to Sara Bea Disability Services two (2) business days before the first test for which you have requested accommodations</li>\n",
    "</ul>"
   ]
  },
  {
   "cell_type": "markdown",
   "id": "de30250d",
   "metadata": {},
   "source": [
    "### Support for Student Mental Health\n",
    "\n",
    "<b>University Statement</b> - \"Care and Wellness Consultants provide support and resources to students who are experiencing stressful or difficult situations that may be interfering with academic progress. Through Care and Wellness Consultants, students can be referred to The University Counseling Center (for cost-free and confidential psychological and psychiatric services from licensed professionals), University Health Services (which provides primary care, psychiatric services, case management, and a pharmacy), and The McDonald Center for Student Well Being (for problems with sleep, stress, and substance use). Visit care.nd.edu.\"\n",
    "\n",
    "<b>My Statement</b> - I encourage all my students to understand that your mental and physical health are paramount, even beyond the impact it may have on your class performance. Factors outside of the classroom contribute to a student's well-being, and I am compassionate and understanding of these issues. In my class room, we will not stigmatize mental health issues nor shame people who are struggling with them, and I pledge to work with each student to facilitate any necessary mental care."
   ]
  },
  {
   "cell_type": "markdown",
   "id": "809977f3",
   "metadata": {},
   "source": [
    "### Diversity, Equity, and Inclusion\n",
    "\n",
    "<b>University Statement</b> - The University of Notre Dame is committed to social justice and diversity. I share that commitment and strive to maintain a positive learning environment based on open communication, mutual respect, and non-discrimination. In this class, we will not discriminate on the basis of race, sex, age, economic class, disability, veteran status, religion, sexual orientation, color or national origin. Any suggestions as to how to further such a positive and open environment will be appreciated and given serious consideration.\n",
    "\n",
    "<b>My Additional Statement</b> -  One of my instructing standards is that two students who perform the same amount of work and achieve the same results should receive the same grade. Many of my previously stated policies are designed to help meet this objective. I recognize there are several real-world challenges to achieving this objective, and I will work with all of my students to help break down barriers that force certain students to put in extraneous work in order to achieve the same grade."
   ]
  }
 ],
 "metadata": {
  "kernelspec": {
   "display_name": "Python 3 (ipykernel)",
   "language": "python",
   "name": "python3"
  },
  "language_info": {
   "codemirror_mode": {
    "name": "ipython",
    "version": 3
   },
   "file_extension": ".py",
   "mimetype": "text/x-python",
   "name": "python",
   "nbconvert_exporter": "python",
   "pygments_lexer": "ipython3",
   "version": "3.9.13"
  }
 },
 "nbformat": 4,
 "nbformat_minor": 5
}
